{
 "cells": [
  {
   "cell_type": "code",
   "execution_count": 1,
   "metadata": {},
   "outputs": [
    {
     "name": "stderr",
     "output_type": "stream",
     "text": [
      "/usr/local/lib/python3.10/dist-packages/tqdm/auto.py:22: TqdmWarning: IProgress not found. Please update jupyter and ipywidgets. See https://ipywidgets.readthedocs.io/en/stable/user_install.html\n",
      "  from .autonotebook import tqdm as notebook_tqdm\n"
     ]
    }
   ],
   "source": [
    "from datasets import load_dataset\n",
    "\n",
    "dataset = load_dataset(\"LazarusNLP/wikipedia_id_20230520\", split=\"train\")"
   ]
  },
  {
   "cell_type": "code",
   "execution_count": 2,
   "metadata": {},
   "outputs": [],
   "source": [
    "from g2p_id import G2p\n",
    "g2p = G2p()"
   ]
  },
  {
   "cell_type": "code",
   "execution_count": 3,
   "metadata": {},
   "outputs": [],
   "source": [
    "from transformers import AutoTokenizer\n",
    "\n",
    "tokenizer = AutoTokenizer.from_pretrained(\"indobenchmark/indobert-base-p1\")"
   ]
  },
  {
   "cell_type": "code",
   "execution_count": 4,
   "metadata": {},
   "outputs": [],
   "source": [
    "import re\n",
    "\n",
    "def phonemize(text):\n",
    "    text = g2p._preprocess(text)\n",
    "    text = re.sub(r\"\\s+\", \" \", text).strip()\n",
    "    words = tokenizer.tokenize(text)\n",
    "    input_ids = tokenizer.encode(text)[1:-1] # skip [CLS] and [SEP] at start and end\n",
    "    try:\n",
    "        phonemes = [g2p(word)[0] for word in words]\n",
    "        assert len(words) == len(phonemes)\n",
    "\n",
    "        return {'input_ids' : input_ids, 'phonemes': phonemes}\n",
    "        # example[\"phonemes\"] = \"|\".join([\" \".join(p) for p in phonemes])\n",
    "    except:\n",
    "        return None"
   ]
  },
  {
   "cell_type": "code",
   "execution_count": 5,
   "metadata": {},
   "outputs": [
    {
     "name": "stderr",
     "output_type": "stream",
     "text": [
      "Parameter 'function'=<function <lambda> at 0x7f79b81f2cb0> of the transform datasets.arrow_dataset.Dataset._map_single couldn't be hashed properly, a random hash was used instead. Make sure your transforms and parameters are serializable with pickle or dill for the dataset fingerprinting and caching to work. If you reuse this transform, the caching mechanism will consider it to be different from the previous calls and recompute everything. This warning is only showed once. Subsequent hashing failures won't be showed.\n",
      "Map (num_proc=32):  11%|█         | 1084035/10059935 [02:45<20:11, 7408.32 examples/s]"
     ]
    },
    {
     "name": "stdout",
     "output_type": "stream",
     "text": [
      "invalid literal for int() with base 10: 'e'\n",
      "Problem with number: <Dalam kalender Gregorian , panjang rata rata satu tahun adalah tiga ratus enam puluh lima koma dua empat dua lima hari yang mana cukup dekat dengan rata rata tahun tropis sebesar tiga ratus enam puluh lima koma dua empat dua dua hari . Selisihnya dalam setahun adalah nol koma nol nol nol tiga hari , yang berarti akan terjadi perbedaan satu hari setelah sekitar tiga ribu tiga ratus tahun . Sebagai perbandingan , dalam kalender Islam yang menggunakan peredaran bulan , rata rata satu bulan sinodik adalah dua puluh sembilan koma lima tiga nol lima delapan sembilan hari . Dalam kalender Islam secara aritmetika ( bukan hasil observasi / rukyat ) , dalam tiga puluh tahun ( tiga ratus enam puluh bulan ) terdapat sebelas tahun kabisat ( tiga ratus lima puluh lima hari ) dan sembilan belas tahun biasa ( tiga ratus lima puluh empat hari ) . Rata rata hari dalam satu bulan adalah ( sebelas X tiga ratus lima puluh lima + sembilan belas X tiga ratus lima puluh empat ) / tiga ratus enam puluh = dua puluh sembilan koma lima tiga nol lima lima enam hari . Dengan demikian dalam satu bulan , selisih antara satu bulan sinodik dengan satu bulan aritmetik adalah 0,000033 hari . Selisih ini akan menjadi satu hari setelah kira kira 30000 bulan atau 2500 tahun .>: 3.3e-05\n",
      ">>> Dalam kalender Gregorian , panjang rata rata satu tahun adalah tiga ratus enam puluh lima koma dua empat dua lima hari yang mana cukup dekat dengan rata rata tahun tropis sebesar tiga ratus enam puluh lima koma dua empat dua dua hari . Selisihnya dalam setahun adalah nol koma nol nol nol tiga hari , yang berarti akan terjadi perbedaan satu hari setelah sekitar tiga ribu tiga ratus tahun . Sebagai perbandingan , dalam kalender Islam yang menggunakan peredaran bulan , rata rata satu bulan sinodik adalah dua puluh sembilan koma lima tiga nol lima delapan sembilan hari . Dalam kalender Islam secara aritmetika ( bukan hasil observasi / rukyat ) , dalam tiga puluh tahun ( tiga ratus enam puluh bulan ) terdapat sebelas tahun kabisat ( tiga ratus lima puluh lima hari ) dan sembilan belas tahun biasa ( tiga ratus lima puluh empat hari ) . Rata rata hari dalam satu bulan adalah ( sebelas X tiga ratus lima puluh lima + sembilan belas X tiga ratus lima puluh empat ) / tiga ratus enam puluh = dua puluh sembilan koma lima tiga nol lima lima enam hari . Dengan demikian dalam satu bulan , selisih antara satu bulan sinodik dengan satu bulan aritmetik adalah nol,tiga puluh tiga hari . Selisih ini akan menjadi satu hari setelah kira kira tiga puluh ribu bulan atau dua ribu lima ratus tahun .\n"
     ]
    },
    {
     "name": "stderr",
     "output_type": "stream",
     "text": [
      "Map (num_proc=32):  18%|█▊        | 1837161/10059935 [04:38<20:13, 6775.14 examples/s]"
     ]
    },
    {
     "name": "stdout",
     "output_type": "stream",
     "text": [
      "invalid literal for int() with base 10: 'e'\n",
      "Problem with number: <Karbon empat belas ( C ) merupakan sebuah radioisotop alami , tercipta di atmosfer atas ( stratosfer bawah dan troposfer atas ) melalui interaksi nitrogen dengan sinar kosmik . Ia ditemukan dalam jumlah jejak di Bumi sebesar satu bagian per triliun ( 0,0000000001 % ) atau lebih , sebagian besar terbatas pada atmosfer dan deposito dangkal , terutama gambut dan bahan organik lainnya . Isotop ini meluruh melalui emisi β 0,158 MeV . Karena waktu paruhnya yang relatif pendek ( 5730 tahun ) , C hampir tidak ada di batuan purba . Jumlah C di atmosfer dan dalam organisme hidup hampir konstan , tetapi dapat diprediksi menurun dalam tubuh mereka setelah kematian . Prinsip ini digunakan dalam penanggalan radiokarbon , ditemukan pada tahun 1949 , yang telah digunakan secara luas untuk menentukan usia bahan karbon dengan usia hingga sekitar 40.000 tahun .>: 1e-10\n",
      ">>> Karbon empat belas ( C ) merupakan sebuah radioisotop alami , tercipta di atmosfer atas ( stratosfer bawah dan troposfer atas ) melalui interaksi nitrogen dengan sinar kosmik . Ia ditemukan dalam jumlah jejak di Bumi sebesar satu bagian per triliun ( nol,satu % ) atau lebih , sebagian besar terbatas pada atmosfer dan deposito dangkal , terutama gambut dan bahan organik lainnya . Isotop ini meluruh melalui emisi β nol koma satu lima delapan MeV . Karena waktu paruhnya yang relatif pendek ( lima ribu tujuh ratus tiga puluh tahun ) , C hampir tidak ada di batuan purba . Jumlah C di atmosfer dan dalam organisme hidup hampir konstan , tetapi dapat diprediksi menurun dalam tubuh mereka setelah kematian . Prinsip ini digunakan dalam penanggalan radiokarbon , ditemukan pada tahun seribu sembilan ratus empat puluh sembilan , yang telah digunakan secara luas untuk menentukan usia bahan karbon dengan usia hingga sekitar empat puluh ribu tahun .\n"
     ]
    },
    {
     "name": "stderr",
     "output_type": "stream",
     "text": [
      "Map (num_proc=32):  28%|██▊       | 2840050/10059935 [07:04<17:59, 6688.00 examples/s]"
     ]
    },
    {
     "name": "stdout",
     "output_type": "stream",
     "text": [
      "invalid literal for int() with base 10: 'e'"
     ]
    },
    {
     "name": "stderr",
     "output_type": "stream",
     "text": [
      "Map (num_proc=32):  28%|██▊       | 2840757/10059935 [07:04<17:43, 6789.54 examples/s]"
     ]
    },
    {
     "name": "stdout",
     "output_type": "stream",
     "text": [
      "\n",
      "Problem with number: <tiga puluh koma delapan lima enam delapan Gm – satu mikroparsec ( 0,000001 parsec )>: 1e-06\n",
      ">>> tiga puluh koma delapan lima enam delapan Gm – satu mikroparsec ( nol,satu parsec )\n"
     ]
    },
    {
     "name": "stderr",
     "output_type": "stream",
     "text": [
      "Map (num_proc=32):  37%|███▋      | 3706782/10059935 [09:01<15:06, 7010.87 examples/s]"
     ]
    },
    {
     "name": "stdout",
     "output_type": "stream",
     "text": [
      "invalid literal for int() with base 10: 'e'\n",
      "Problem with number: <Efek kupu kupu ( ) adalah istilah dalam teori kekacauan yang berhubungan dengan \" ketergantungan yang peka terhadap kondisi awal \" , di mana perubahan kecil pada satu tempat dalam suatu sistem taklinear dapat mengakibatkan perbedaan besar dalam keadaan kemudian . Istilah yang pertama kali dipakai oleh Edward Norton Lorenz ini merujuk pada sebuah pemikiran bahwa kepakan sayap kupu kupu di hutan belantara Brasil secara teori dapat menghasilkan tornado di Texas beberapa bulan kemudian . Fenomena ini juga dikenal sebagai sistem yang ketergantungannya sangat peka terhadap kondisi awal . Perubahan yang hanya sedikit pada kondisi awal , dapat mengubah secara drastis kelakuan sistem pada jangka panjang . Jika suatu sistem dimulai dengan kondisi awal misalnya dua , maka hasil akhir dari sistem yang sama akan jauh berbeda jika dimulai dengan dua koma nol nol nol nol nol satu di mana 0,000001 sangat kecil sekali dan wajar untuk diabaikan . Dengan kata lain , kesalahan yang sangat kecil akan menyebabkan bencana di kemudian hari .>: 1e-06\n",
      ">>> Efek kupu kupu ( ) adalah istilah dalam teori kekacauan yang berhubungan dengan \" ketergantungan yang peka terhadap kondisi awal \" , di mana perubahan kecil pada satu tempat dalam suatu sistem taklinear dapat mengakibatkan perbedaan besar dalam keadaan kemudian . Istilah yang pertama kali dipakai oleh Edward Norton Lorenz ini merujuk pada sebuah pemikiran bahwa kepakan sayap kupu kupu di hutan belantara Brasil secara teori dapat menghasilkan tornado di Texas beberapa bulan kemudian . Fenomena ini juga dikenal sebagai sistem yang ketergantungannya sangat peka terhadap kondisi awal . Perubahan yang hanya sedikit pada kondisi awal , dapat mengubah secara drastis kelakuan sistem pada jangka panjang . Jika suatu sistem dimulai dengan kondisi awal misalnya dua , maka hasil akhir dari sistem yang sama akan jauh berbeda jika dimulai dengan dua koma nol nol nol nol nol satu di mana nol,satu sangat kecil sekali dan wajar untuk diabaikan . Dengan kata lain , kesalahan yang sangat kecil akan menyebabkan bencana di kemudian hari .\n"
     ]
    },
    {
     "name": "stderr",
     "output_type": "stream",
     "text": [
      "Map (num_proc=32):  37%|███▋      | 3725832/10059935 [09:04<15:01, 7027.39 examples/s]"
     ]
    },
    {
     "name": "stdout",
     "output_type": "stream",
     "text": [
      "invalid literal for int() with base 10: 'e'\n",
      "Problem with number: <PT Mandiri Sekuritas 0,00000034 %>: 3.4e-07\n",
      ">>> PT Mandiri Sekuritas nol,tiga puluh empat %"
     ]
    },
    {
     "name": "stderr",
     "output_type": "stream",
     "text": [
      "Map (num_proc=32):  37%|███▋      | 3726619/10059935 [09:04<14:32, 7257.56 examples/s]"
     ]
    },
    {
     "name": "stdout",
     "output_type": "stream",
     "text": [
      "\n"
     ]
    },
    {
     "name": "stderr",
     "output_type": "stream",
     "text": [
      "Map (num_proc=32):  37%|███▋      | 3745777/10059935 [09:07<14:35, 7210.86 examples/s]"
     ]
    },
    {
     "name": "stdout",
     "output_type": "stream",
     "text": [
      "invalid literal for int() with base 10: 'e'\n",
      "Problem with number: <Piko ( simbol p ) adalah sebuah awalan dalam sistem metrik yang menunjukkan faktor sepertriliun ( sepuluh dua belas atau 0,000000000001 atau 1/1000 . 000.000 . 000 ) .>: 1e-12\n",
      ">>> Piko ( simbol p ) adalah sebuah awalan dalam sistem metrik yang menunjukkan faktor sepertriliun ( sepuluh dua belas atau nol,satu atau satu/seribu . nol . nol ) .\n"
     ]
    },
    {
     "name": "stderr",
     "output_type": "stream",
     "text": [
      "Map (num_proc=32):  37%|███▋      | 3746514/10059935 [09:07<14:52, 7072.88 examples/s]"
     ]
    },
    {
     "name": "stdout",
     "output_type": "stream",
     "text": [
      "invalid literal for int() with base 10: 'e'\n",
      "Problem with number: <satu pF = 0,000000000001 Farad .>: 1e-12\n",
      ">>> satu pF = nol,satu Farad .\n",
      "invalid literal for int() with base 10: 'e'\n",
      "Problem with number: <Femto ( simbol : f ) adalah sebuah awalan dalam sistem metrik yang menunjukkan faktor seperseributriliun ( sepuluh lima belas atau 0,000000000000001 atau 1/1000 . 000.000 . 000.000 ) . Digunakan oleh Konferensi des Poids 11 Generale et Mesures , ditambahkan pada tahun 1964 untuk SI . Hal ini berasal dari Denmark , femten , yang berarti \" lima belas \" .>: 1e-15\n",
      ">>> Femto ( simbol : f ) adalah sebuah awalan dalam sistem metrik yang menunjukkan faktor seperseributriliun ( sepuluh lima belas atau nol,satu atau satu/seribu . nol . nol ) . Digunakan oleh Konferensi des Poids sebelas Generale et Mesures , ditambahkan pada tahun seribu sembilan ratus enam puluh empat untuk SI . Hal ini berasal dari Denmark , femten , yang berarti \" lima belas \" .\n",
      "invalid literal for int() with base 10: 'e'\n",
      "Problem with number: <Ato ( simbol a ) adalah sebuah awalan dalam sistem metrik yang menunjukkan faktor sepuluh delapan belas atau 0,000000000000000001 atau 1/1000 . 000.000 . 000.000 . 000 .>: 1e-18\n",
      ">>> Ato ( simbol a ) adalah sebuah awalan dalam sistem metrik yang menunjukkan faktor sepuluh delapan belas atau nol,satu atau satu/seribu . nol . nol . nol .\n",
      "invalid literal for int() with base 10: 'e'\n",
      "Problem with number: <Zepto ( simbol z ) adalah sebuah awalan dalam sistem metrik yang menunjukkan faktor sepuluh − dua puluh satu atau 0,000000000000000000001 atau 1/1000 . 000.000 . 000.000 . 000.000 .>: 1e-21\n",
      ">>> Zepto ( simbol z ) adalah sebuah awalan dalam sistem metrik yang menunjukkan faktor sepuluh − dua puluh satu atau nol,satu atau satu/seribu . nol . nol . nol ."
     ]
    },
    {
     "name": "stderr",
     "output_type": "stream",
     "text": [
      "Map (num_proc=32):  37%|███▋      | 3747233/10059935 [09:07<15:02, 6991.46 examples/s]"
     ]
    },
    {
     "name": "stdout",
     "output_type": "stream",
     "text": [
      "\n",
      "invalid literal for int() with base 10: 'e'\n",
      "Problem with number: <Yokto ( simbol y ) adalah awalan dalam sistem metrik yang menunjukkan faktor sepuluh dua puluh empat atau 0,000000000000000000000001 atau 1/1 . 000.000 . 000.000 . 000.000 .>: 1e-24\n",
      ">>> Yokto ( simbol y ) adalah awalan dalam sistem metrik yang menunjukkan faktor sepuluh dua puluh empat atau nol,satu atau satu/satu . nol . nol . nol .\n",
      "invalid literal for int() with base 10: 'e'\n",
      "Problem with number: <Ukuran singularitas lubang hitam : 0,00000001 ym . ( ini hanya sebatas teori )>: 1e-08\n",
      ">>> Ukuran singularitas lubang hitam : nol,satu ym . ( ini hanya sebatas teori )\n"
     ]
    },
    {
     "name": "stderr",
     "output_type": "stream",
     "text": [
      "Map (num_proc=32):  51%|█████▏    | 5166107/10059935 [12:34<13:12, 6177.34 examples/s]"
     ]
    },
    {
     "name": "stdout",
     "output_type": "stream",
     "text": [
      "invalid literal for int() with base 10: 'e'\n"
     ]
    },
    {
     "name": "stderr",
     "output_type": "stream",
     "text": [
      "Map (num_proc=32):  51%|█████▏    | 5166874/10059935 [12:34<12:24, 6568.06 examples/s]"
     ]
    },
    {
     "name": "stdout",
     "output_type": "stream",
     "text": [
      "Problem with measurements: <= 0,00001 bar>: 1e-05\n",
      "invalid literal for int() with base 10: 'e'\n",
      "Problem with number: <= 0,00001 bar>: 1e-05\n",
      ">>> = nol,satu bar\n"
     ]
    },
    {
     "name": "stderr",
     "output_type": "stream",
     "text": [
      "Map (num_proc=32):  53%|█████▎    | 5341278/10059935 [12:59<12:18, 6392.49 examples/s]"
     ]
    },
    {
     "name": "stdout",
     "output_type": "stream",
     "text": [
      "invalid literal for int() with base 10: 'e'"
     ]
    },
    {
     "name": "stderr",
     "output_type": "stream",
     "text": [
      "Map (num_proc=32):  53%|█████▎    | 5341926/10059935 [12:59<12:16, 6408.97 examples/s]"
     ]
    },
    {
     "name": "stdout",
     "output_type": "stream",
     "text": [
      "\n",
      "Problem with number: <Nobara memiliki daya tahan terhadap rasa sakit yang sangat tinggi yang memungkinkan untuk menahan rasa sakitnya , kecerdasan taktis dan pemahaman yang cermat tentang seni jujutsu . Dia telah melakukan teknik terkutuk yang disebut \" Black Flash \" . Yang menciptakan distorsi spasial ketika pengguna bersentuhan dengan dampak energi terkutuk dalam waktu 0,000001 detik dari serangan fisik . Teknik turun temurunnya adalah Teknik Boneka Voodoo , yang memungkinkan dia menggunakan boneka voodoo untuk menyerang lawannya dari jarak jauh dengan memukul paku dengan palu yang dipenuhi energi kutukan , sehingga kutukan merasakan apa yang dia berikan pada boneka itu .>: 1e-06\n",
      ">>> Nobara memiliki daya tahan terhadap rasa sakit yang sangat tinggi yang memungkinkan untuk menahan rasa sakitnya , kecerdasan taktis dan pemahaman yang cermat tentang seni jujutsu . Dia telah melakukan teknik terkutuk yang disebut \" Black Flash \" . Yang menciptakan distorsi spasial ketika pengguna bersentuhan dengan dampak energi terkutuk dalam waktu nol,satu detik dari serangan fisik . Teknik turun temurunnya adalah Teknik Boneka Voodoo , yang memungkinkan dia menggunakan boneka voodoo untuk menyerang lawannya dari jarak jauh dengan memukul paku dengan palu yang dipenuhi energi kutukan , sehingga kutukan merasakan apa yang dia berikan pada boneka itu .\n"
     ]
    },
    {
     "name": "stderr",
     "output_type": "stream",
     "text": [
      "Map (num_proc=32):  54%|█████▍    | 5427195/10059935 [13:11<09:42, 7949.20 examples/s]"
     ]
    },
    {
     "name": "stdout",
     "output_type": "stream",
     "text": [
      "invalid literal for int() with base 10: 'e'"
     ]
    },
    {
     "name": "stderr",
     "output_type": "stream",
     "text": [
      "Map (num_proc=32):  54%|█████▍    | 5428048/10059935 [13:11<09:35, 8055.10 examples/s]"
     ]
    },
    {
     "name": "stdout",
     "output_type": "stream",
     "text": [
      "\n",
      "Problem with number: <Notasi ilmiah dibuat untuk menangani berbagai nilai yang muncul dalam studi ilmiah . Misalnya satu koma nol × seratus sembilan yang sama dengan satu miliar , satu yang diikuti oleh sembilan nol : seribu . nol , dan satu koma nol × sepuluh − sembilan berarti satu per satu miliar , atau 0,000000001 . Menulis 109 dibandingkan menulis sembilan angka 0 dapat mempersingkat waktu pembaca dan memperkecil kesalahan membaca bilangan dengan 0 yang sangat panjang .>: 1e-09\n",
      ">>> Notasi ilmiah dibuat untuk menangani berbagai nilai yang muncul dalam studi ilmiah . Misalnya satu koma nol × seratus sembilan yang sama dengan satu miliar , satu yang diikuti oleh sembilan nol : seribu . nol , dan satu koma nol × sepuluh − sembilan berarti satu per satu miliar , atau nol,satu . Menulis seratus sembilan dibandingkan menulis sembilan angka nol dapat mempersingkat waktu pembaca dan memperkecil kesalahan membaca bilangan dengan nol yang sangat panjang .\n"
     ]
    },
    {
     "name": "stderr",
     "output_type": "stream",
     "text": [
      "Map (num_proc=32):  60%|██████    | 6062230/10059935 [14:46<11:34, 5754.56 examples/s]"
     ]
    },
    {
     "name": "stdout",
     "output_type": "stream",
     "text": [
      "invalid literal for int() with base 10: 'e'\n",
      "Problem with number: <Minimal dari biaya transaksi terhadap Cardano ( ADA ) dihitung dengan menggunakan rumus yakni sebagai berikut : x + y × . Apabila persamaan ini , “ x ” merupakan konstanta dengan ciri unik yang nilainya nol koma satu lima lima tiga delapan satu ADA . Di samping itu untuk “ y ” merupakan konstanta tertentu yang nilainya 0,000043946 ADA per byte ( bit ) . Hlal ini mengartikan bahwa tiap tiap transaksi akan dikenakan biaya yang paling tidaknya bernilai 0,155381 ADA , adapun biaya tambahan 0,000043946 ADA per byte merupakan ukuran transaksi . Proyek merupakan proyek yang masih dalam pengembangan sehingga biaya transaksi bisa saja berubah . Dan selain dari segi jaringan , pengguna atau pemakai juga perlu menyisihkan uang untuk keperluan komisi , ongkos ataupun biaya yang berhubungan dengan pembelian koin serta penarikan uang terhadap berbagai layanan exchange mata uang kripto dan layanan perdagangan .>: 4.3946e-05\n",
      "invalid literal for int() with base 10: 'e'\n",
      "Problem with number: <Minimal dari biaya transaksi terhadap Cardano ( ADA ) dihitung dengan menggunakan rumus yakni sebagai berikut : x + y × . Apabila persamaan ini , “ x ” merupakan konstanta dengan ciri unik yang nilainya nol koma satu lima lima tiga delapan satu ADA . Di samping itu untuk “ y ” merupakan konstanta tertentu yang nilainya 0,000043946 ADA per byte ( bit ) . Hlal ini mengartikan bahwa tiap tiap transaksi akan dikenakan biaya yang paling tidaknya bernilai nol koma satu lima lima tiga delapan satu ADA , adapun biaya tambahan 0,000043946 ADA per byte merupakan ukuran transaksi . Proyek merupakan proyek yang masih dalam pengembangan sehingga biaya transaksi bisa saja berubah . Dan selain dari segi jaringan , pengguna atau pemakai juga perlu menyisihkan uang untuk keperluan komisi , ongkos ataupun biaya yang berhubungan dengan pembelian koin serta penarikan uang terhadap berbagai layanan exchange mata uang kripto dan layanan perdagangan .>: 4.3946e-05\n",
      ">>> Minimal dari biaya transaksi terhadap Cardano ( ADA ) dihitung dengan menggunakan rumus yakni sebagai berikut : x + y × . Apabila persamaan ini , “ x ” merupakan konstanta dengan ciri unik yang nilainya nol koma satu lima lima tiga delapan satu ADA . Di samping itu untuk “ y ” merupakan konstanta tertentu yang nilainya nol,empat puluh tiga ribu sembilan ratus empat puluh enam ADA per byte ( bit ) . Hlal ini mengartikan bahwa tiap tiap transaksi akan dikenakan biaya yang paling tidaknya bernilai nol koma satu lima lima tiga delapan satu ADA , adapun biaya tambahan nol,empat puluh tiga ribu sembilan ratus empat puluh enam ADA per byte merupakan ukuran transaksi . Proyek merupakan proyek yang masih dalam pengembangan sehingga biaya transaksi bisa saja berubah . Dan selain dari segi jaringan , pengguna atau pemakai juga perlu menyisihkan uang untuk keperluan komisi , ongkos ataupun biaya yang berhubungan dengan pembelian koin serta penarikan uang terhadap berbagai layanan exchange mata uang kripto dan layanan perdagangan .\n"
     ]
    },
    {
     "name": "stderr",
     "output_type": "stream",
     "text": [
      "Map (num_proc=32):  61%|██████    | 6138077/10059935 [14:58<09:36, 6805.93 examples/s]"
     ]
    },
    {
     "name": "stdout",
     "output_type": "stream",
     "text": [
      "invalid literal for int() with base 10: 'e'\n",
      "Problem with number: <Guppy minutia , 0,00000000000000000001>: 1e-20\n",
      ">>> Guppy minutia , nol,satu\n"
     ]
    },
    {
     "name": "stderr",
     "output_type": "stream",
     "text": [
      "Map (num_proc=32):  61%|██████    | 6138765/10059935 [14:58<09:46, 6687.14 examples/s]"
     ]
    },
    {
     "name": "stdout",
     "output_type": "stream",
     "text": [
      "invalid literal for int() with base 10: 'e'\n",
      "Problem with number: <Long Yi bucket , 0,0000000000767>: 7.67e-11\n",
      ">>> Long Yi bucket , nol,tujuh ratus enam puluh tujuh\n",
      "invalid literal for int() with base 10: 'e'\n",
      "Problem with number: <Eyelash mite speck , 0,000002>: 2e-06\n",
      ">>> Eyelash mite speck , nol,dua\n",
      "invalid literal for int() with base 10: 'e'\n",
      "Problem with number: <Dust mite speck , 0,000005>: 5e-06\n",
      ">>> Dust mite speck , nol,lima\n",
      "invalid literal for int() with base 10: 'e'\n",
      "Problem with number: <Cheese mite speck , 0,000008>: 8e-06\n",
      ">>> Cheese mite speck , nol,delapan\n",
      "invalid literal for int() with base 10: 'e'\n",
      "Problem with number: <Clover mite speck , 0,00002 . Semua bilangan mite speck ini dikaitkan oleh Garret Wikinson .>: 2e-05\n",
      ">>> Clover mite speck , nol,dua . Semua bilangan mite speck ini dikaitkan oleh Garret Wikinson .\n"
     ]
    },
    {
     "name": "stderr",
     "output_type": "stream",
     "text": [
      "Map (num_proc=32):  63%|██████▎   | 6372003/10059935 [15:32<07:44, 7937.25 examples/s]"
     ]
    },
    {
     "name": "stdout",
     "output_type": "stream",
     "text": [
      "invalid literal for int() with base 10: 'e'\n"
     ]
    },
    {
     "name": "stderr",
     "output_type": "stream",
     "text": [
      "Map (num_proc=32):  63%|██████▎   | 6372811/10059935 [15:32<08:03, 7627.25 examples/s]"
     ]
    },
    {
     "name": "stdout",
     "output_type": "stream",
     "text": [
      "Problem with measurements: <Nanoteknologi adalah manipulasi materi pada skala atomik dan skala molekular . Diameter atom berkisar antara 62 pikometer ( atom Helium ) sampai 520 pikometer ( atom Cesium ) , sedangkan kombinasi dari beberapa atom membentuk molekul dengan kisaran ukuran nano , yaitu ukuran benda yang besarnya : satu per miliar meter ( 0,0000000001 m ) atau satu meter dibagi satu miliar . Istilah Nanoteknologi pertama kali disebut dalam pidato ilmiah Profesor Nario Taniguci tahun 1974 .>: 1e-10\n",
      "invalid literal for int() with base 10: 'e'\n",
      "Problem with number: <Nanoteknologi adalah manipulasi materi pada skala atomik dan skala molekular . Diameter atom berkisar antara enam puluh dua pikometer ( atom Helium ) sampai lima ratus dua puluh pikometer ( atom Cesium ) , sedangkan kombinasi dari beberapa atom membentuk molekul dengan kisaran ukuran nano , yaitu ukuran benda yang besarnya : satu per miliar meter ( 0,0000000001 m ) atau satu meter dibagi satu miliar . Istilah Nanoteknologi pertama kali disebut dalam pidato ilmiah Profesor Nario Taniguci tahun 1974 .>: 1e-10\n",
      ">>> Nanoteknologi adalah manipulasi materi pada skala atomik dan skala molekular . Diameter atom berkisar antara enam puluh dua pikometer ( atom Helium ) sampai lima ratus dua puluh pikometer ( atom Cesium ) , sedangkan kombinasi dari beberapa atom membentuk molekul dengan kisaran ukuran nano , yaitu ukuran benda yang besarnya : satu per miliar meter ( nol,satu m ) atau satu meter dibagi satu miliar . Istilah Nanoteknologi pertama kali disebut dalam pidato ilmiah Profesor Nario Taniguci tahun seribu sembilan ratus tujuh puluh empat .\n"
     ]
    },
    {
     "name": "stderr",
     "output_type": "stream",
     "text": [
      "Map (num_proc=32):  67%|██████▋   | 6754374/10059935 [16:26<08:53, 6197.20 examples/s]"
     ]
    },
    {
     "name": "stdout",
     "output_type": "stream",
     "text": [
      "invalid literal for int() with base 10: 'e'\n",
      "Problem with number: <nol 00,0000011111 , 11111000 00 dan 11111111 11>: 1.1111e-06\n",
      ">>> nol nol,sebelas ribu seratus sebelas , sebelas juta seratus sebelas ribu nol dan sebelas juta seratus sebelas ribu seratus sebelas sebelas\n"
     ]
    },
    {
     "name": "stderr",
     "output_type": "stream",
     "text": [
      "Map (num_proc=32):  69%|██████▉   | 6977636/10059935 [16:59<08:17, 6191.43 examples/s]"
     ]
    },
    {
     "name": "stdout",
     "output_type": "stream",
     "text": [
      "invalid literal for int() with base 10: 'e'"
     ]
    },
    {
     "name": "stderr",
     "output_type": "stream",
     "text": [
      "Map (num_proc=32):  69%|██████▉   | 6978261/10059935 [17:00<08:21, 6139.35 examples/s]"
     ]
    },
    {
     "name": "stdout",
     "output_type": "stream",
     "text": [
      "\n",
      "Problem with number: <Sel sel dari SA nodus tersebar di dalam jaringan ikat , yang mengandung saraf , pembuluh darah , kolagen dan lemak . Tepat di sekitar sel simpul SA adalah sel paranodal . Sel sel ini memiliki struktur yang berada di antara sel sel simpul SA dan bagian atrium lainnya . Jaringan ikat , bersama dengan sel sel paranodal , mengisolasi simpul SA dari sisa atrium , mencegah aktivitas listrik sel sel atrium mempengaruhi sel sel simpul SA . Sel sel simpul SA lebih kecil dan lebih pucat daripada sel sel atrium sekitarnya , dengan rata rata sel berdiameter sekitar delapan mikrometer dan panjang dua puluh tiga puluh mikrometer ( satu mikrometer = 0,000001 meter ) . Tidak seperti sel atrium , sel simpul SA mengandung lebih sedikit mitokondria ( pembangkit tenaga sel ) , lebih sedikit serat mikro ( mesin kontraktil sel ) , dan retikulum sarkoplasma yang lebih kecil ( organel penyimpan kalsium yang melepaskan kalsium untuk kontraksi ) . Ini berarti bahwa sel sel simpul SA kurang diperlengkapi untuk berkontraksi dibandingkan dengan sel sel atrium dan ventrikel .>: 1e-06\n",
      ">>> Sel sel dari SA nodus tersebar di dalam jaringan ikat , yang mengandung saraf , pembuluh darah , kolagen dan lemak . Tepat di sekitar sel simpul SA adalah sel paranodal . Sel sel ini memiliki struktur yang berada di antara sel sel simpul SA dan bagian atrium lainnya . Jaringan ikat , bersama dengan sel sel paranodal , mengisolasi simpul SA dari sisa atrium , mencegah aktivitas listrik sel sel atrium mempengaruhi sel sel simpul SA . Sel sel simpul SA lebih kecil dan lebih pucat daripada sel sel atrium sekitarnya , dengan rata rata sel berdiameter sekitar delapan mikrometer dan panjang dua puluh tiga puluh mikrometer ( satu mikrometer = nol,satu meter ) . Tidak seperti sel atrium , sel simpul SA mengandung lebih sedikit mitokondria ( pembangkit tenaga sel ) , lebih sedikit serat mikro ( mesin kontraktil sel ) , dan retikulum sarkoplasma yang lebih kecil ( organel penyimpan kalsium yang melepaskan kalsium untuk kontraksi ) . Ini berarti bahwa sel sel simpul SA kurang diperlengkapi untuk berkontraksi dibandingkan dengan sel sel atrium dan ventrikel .\n"
     ]
    },
    {
     "name": "stderr",
     "output_type": "stream",
     "text": [
      "Map (num_proc=32):  73%|███████▎  | 7302376/10059935 [17:47<06:20, 7237.92 examples/s]"
     ]
    },
    {
     "name": "stdout",
     "output_type": "stream",
     "text": [
      "invalid literal for int() with base 10: 'e'\n",
      "Problem with number: <| rowspan = empat | 0,000050 – 0,000059>: 5e-05\n",
      "invalid literal for int() with base 10: 'e'\n",
      "Problem with number: <| rowspan = empat | 0,000050 – 0,000059>: 5.9e-05\n",
      ">>> | rowspan = empat | nol,lima puluh – nol,lima puluh sembilan\n"
     ]
    },
    {
     "name": "stderr",
     "output_type": "stream",
     "text": [
      "Map (num_proc=32):  85%|████████▍ | 8525221/10059935 [20:55<04:27, 5742.57 examples/s]"
     ]
    },
    {
     "name": "stdout",
     "output_type": "stream",
     "text": [
      "invalid literal for int() with base 10: 'e'\n",
      "Problem with number: <Penggunaan nilai moneter juga memiliki keuntungan karena memungkinkan seseorang untuk memperhitungkan efek berjalanannya waktu dan dampak ketidakpastian . Jika biaya atau manfaat moneter yang diketahui berada di masa depan , maka nilai saat ini dapat ditentukan dengan mendiskontokannya pada tingkat bunga yang sesuai . Jika biaya atau manfaat moneter hanya mungkin dan tidak pasti , maka nilai yang diharapkan dapat dihitung dengan mengalikan biaya atau manfaat moneter dengan faktor probabilitas yang sesuai . Keberatan standar terhadap penggunaan nilai moneter untuk mengukur semua biaya dan manfaat adalah bahwa beberapa barang , seperti kesehatan dan kehidupan , tidak dapat diberi harga . Namun , pandangan utilitarian berpendapat bahwa tidak hanya mungkin untuk memberi harga pada kesehatan dan kehidupan , tetapi kita melakukannya hampir setiap hari . Setiap kali orang membatasi jumlah uang yang bersedia mereka bayarkan untuk mengurangi risiko yang ditimbulkan oleh suatu peristiwa terhadap hidup mereka , mereka telah menetapkan harga implisit pada kehidupan mereka sendiri . Misalnya , Anda bersedia membayar dua puluh lima   dollar untuk sebuah peralatan keselamatan yang akan mengurangi kemungkinan Anda tewas dalam kecelakaan mobil dari 0,00005 menjadi 0,00004 , tetapi Anda tidak bersedia membayar lebih . Kemudian , pada dasarnya , Anda secara implisit telah memutuskan bahwa 0,00001 dari hidup Anda bernilai dua puluh lima   dollar — atau , dengan kata lain , bahwa hidup bernilai dua koma lima   dollar , 000 . Penetapan harga seperti itu tidak dapat dihindari dan perlu , selama kita hidup dalam lingkungan di mana risiko terhadap kesehatan dan kehidupan dapat diturunkan hanya dengan melepaskan ( menukar ) hal hal lain yang mungkin kita inginkan dan yang kita tetapkan memiliki harga jelas ( Velasquez , 2014 : 92 ) .>: 5e-05\n",
      "invalid literal for int() with base 10: 'e'\n",
      "Problem with number: <Penggunaan nilai moneter juga memiliki keuntungan karena memungkinkan seseorang untuk memperhitungkan efek berjalanannya waktu dan dampak ketidakpastian . Jika biaya atau manfaat moneter yang diketahui berada di masa depan , maka nilai saat ini dapat ditentukan dengan mendiskontokannya pada tingkat bunga yang sesuai . Jika biaya atau manfaat moneter hanya mungkin dan tidak pasti , maka nilai yang diharapkan dapat dihitung dengan mengalikan biaya atau manfaat moneter dengan faktor probabilitas yang sesuai . Keberatan standar terhadap penggunaan nilai moneter untuk mengukur semua biaya dan manfaat adalah bahwa beberapa barang , seperti kesehatan dan kehidupan , tidak dapat diberi harga . Namun , pandangan utilitarian berpendapat bahwa tidak hanya mungkin untuk memberi harga pada kesehatan dan kehidupan , tetapi kita melakukannya hampir setiap hari . Setiap kali orang membatasi jumlah uang yang bersedia mereka bayarkan untuk mengurangi risiko yang ditimbulkan oleh suatu peristiwa terhadap hidup mereka , mereka telah menetapkan harga implisit pada kehidupan mereka sendiri . Misalnya , Anda bersedia membayar dua puluh lima   dollar untuk sebuah peralatan keselamatan yang akan mengurangi kemungkinan Anda tewas dalam kecelakaan mobil dari 0,00005 menjadi 0,00004 , tetapi Anda tidak bersedia membayar lebih . Kemudian , pada dasarnya , Anda secara implisit telah memutuskan bahwa 0,00001 dari hidup Anda bernilai dua puluh lima   dollar — atau , dengan kata lain , bahwa hidup bernilai dua koma lima   dollar , 000 . Penetapan harga seperti itu tidak dapat dihindari dan perlu , selama kita hidup dalam lingkungan di mana risiko terhadap kesehatan dan kehidupan dapat diturunkan hanya dengan melepaskan ( menukar ) hal hal lain yang mungkin kita inginkan dan yang kita tetapkan memiliki harga jelas ( Velasquez , 2014 : 92 ) .>: 4e-05\n",
      "invalid literal for int() with base 10: 'e'\n",
      "Problem with number: <Penggunaan nilai moneter juga memiliki keuntungan karena memungkinkan seseorang untuk memperhitungkan efek berjalanannya waktu dan dampak ketidakpastian . Jika biaya atau manfaat moneter yang diketahui berada di masa depan , maka nilai saat ini dapat ditentukan dengan mendiskontokannya pada tingkat bunga yang sesuai . Jika biaya atau manfaat moneter hanya mungkin dan tidak pasti , maka nilai yang diharapkan dapat dihitung dengan mengalikan biaya atau manfaat moneter dengan faktor probabilitas yang sesuai . Keberatan standar terhadap penggunaan nilai moneter untuk mengukur semua biaya dan manfaat adalah bahwa beberapa barang , seperti kesehatan dan kehidupan , tidak dapat diberi harga . Namun , pandangan utilitarian berpendapat bahwa tidak hanya mungkin untuk memberi harga pada kesehatan dan kehidupan , tetapi kita melakukannya hampir setiap hari . Setiap kali orang membatasi jumlah uang yang bersedia mereka bayarkan untuk mengurangi risiko yang ditimbulkan oleh suatu peristiwa terhadap hidup mereka , mereka telah menetapkan harga implisit pada kehidupan mereka sendiri . Misalnya , Anda bersedia membayar dua puluh lima   dollar untuk sebuah peralatan keselamatan yang akan mengurangi kemungkinan Anda tewas dalam kecelakaan mobil dari 0,00005 menjadi 0,00004 , tetapi Anda tidak bersedia membayar lebih . Kemudian , pada dasarnya , Anda secara implisit telah memutuskan bahwa 0,00001 dari hidup Anda bernilai dua puluh lima   dollar — atau , dengan kata lain , bahwa hidup bernilai dua koma lima   dollar , 000 . Penetapan harga seperti itu tidak dapat dihindari dan perlu , selama kita hidup dalam lingkungan di mana risiko terhadap kesehatan dan kehidupan dapat diturunkan hanya dengan melepaskan ( menukar ) hal hal lain yang mungkin kita inginkan dan yang kita tetapkan memiliki harga jelas ( Velasquez , 2014 : 92 ) .>: 1e-05\n",
      ">>> Penggunaan nilai moneter juga memiliki keuntungan karena memungkinkan seseorang untuk memperhitungkan efek berjalanannya waktu dan dampak ketidakpastian . Jika biaya atau manfaat moneter yang diketahui berada di masa depan , maka nilai saat ini dapat ditentukan dengan mendiskontokannya pada tingkat bunga yang sesuai . Jika biaya atau manfaat moneter hanya mungkin dan tidak pasti , maka nilai yang diharapkan dapat dihitung dengan mengalikan biaya atau manfaat moneter dengan faktor probabilitas yang sesuai . Keberatan standar terhadap penggunaan nilai moneter untuk mengukur semua biaya dan manfaat adalah bahwa beberapa barang , seperti kesehatan dan kehidupan , tidak dapat diberi harga . Namun , pandangan utilitarian berpendapat bahwa tidak hanya mungkin untuk memberi harga pada kesehatan dan kehidupan , tetapi kita melakukannya hampir setiap hari . Setiap kali orang membatasi jumlah uang yang bersedia mereka bayarkan untuk mengurangi risiko yang ditimbulkan oleh suatu peristiwa terhadap hidup mereka , mereka telah menetapkan harga implisit pada kehidupan mereka sendiri . Misalnya , Anda bersedia membayar dua puluh lima dollar untuk sebuah peralatan keselamatan yang akan mengurangi kemungkinan Anda tewas dalam kecelakaan mobil dari nol,lima menjadi nol,empat , tetapi Anda tidak bersedia membayar lebih . Kemudian , pada dasarnya , Anda secara implisit telah memutuskan bahwa nol,satu dari hidup Anda bernilai dua puluh lima dollar — atau , dengan kata lain , bahwa hidup bernilai dua koma lima dollar , nol . Penetapan harga seperti itu tidak dapat dihindari dan perlu , selama kita hidup dalam lingkungan di mana risiko terhadap kesehatan dan kehidupan dapat diturunkan hanya dengan melepaskan ( menukar ) hal hal lain yang mungkin kita inginkan dan yang kita tetapkan memiliki harga jelas ( Velasquez , dua ribu empat belas : sembilan puluh dua ) .\n"
     ]
    },
    {
     "name": "stderr",
     "output_type": "stream",
     "text": [
      "Map (num_proc=32):  88%|████████▊ | 8840897/10059935 [21:46<03:01, 6698.55 examples/s]"
     ]
    },
    {
     "name": "stdout",
     "output_type": "stream",
     "text": [
      "invalid literal for int() with base 10: 'e'\n",
      "Problem with number: <Terdapat tiga macam isotop karbon yang terjadi secara alami di Bumi : sembilan puluh sembilan % merupakan karbon dua belas , satu % merupakan karbon tiga belas , sedangkan karbon empat belas terdapat dalam jumlah yang sangat sedikit , misalnya sejumlah satu bagian per triliun ( 0,0000000001 % ) dari karbon yang ada di atmosfer . Waktu paruh karbon 14 adalah 5.730 ± 40 tahun . Ia meluruh menjadi nitrogen 14 melalui peluruhan beta . Aktivitas standar radiokarbon modern adalah sekitar 14 disintegrasi per menit ( dpm ) per gram karbon .>: 1e-10\n",
      ">>> Terdapat tiga macam isotop karbon yang terjadi secara alami di Bumi : sembilan puluh sembilan % merupakan karbon dua belas , satu % merupakan karbon tiga belas , sedangkan karbon empat belas terdapat dalam jumlah yang sangat sedikit , misalnya sejumlah satu bagian per triliun ( nol,satu % ) dari karbon yang ada di atmosfer . Waktu paruh karbon empat belas adalah lima ribu tujuh ratus tiga puluh ± empat puluh tahun . Ia meluruh menjadi nitrogen empat belas melalui peluruhan beta . Aktivitas standar radiokarbon modern adalah sekitar empat belas disintegrasi per menit ( dpm ) per gram karbon .\n"
     ]
    },
    {
     "name": "stderr",
     "output_type": "stream",
     "text": [
      "Map (num_proc=32):  95%|█████████▍| 9510595/10059935 [23:51<02:04, 4399.45 examples/s]"
     ]
    },
    {
     "name": "stdout",
     "output_type": "stream",
     "text": [
      "invalid literal for int() with base 10: 'e'\n",
      "Problem with measurements: <Nanosains didefinisikan sebagai studi tentang fenomena dan manipulasi bahan pada skala molekuler dan makromolekulaer , sifatnya berbeda secara signifikan dari bahan yang berada di skala yang lebih besar . Nanosains adalah bidang interdisipliner studi yang menggabungkan fisika , kimia dan biokimia , bahan dan bidang teknik listrik yang luas . Berkaitan dengan sifat atom dan molekul terdiri atas banyak atom dibawah kisaran yang luar biasa kondisi dan aplikasi geometris . Nanosains tidak terlepas dari teknologi nano atau Nanoteknologi , material berskala nano material yang berukuran submikrometer ( 10 − enam meter ) atau nanometer ( 10 − sembilan meter ) , ukuran 1 nanometer adalah 1 per satu miliar meter ( 0,0000000001 m ) artinya 50.000 kali lebih kecil dari ukuran rambut manusia>: 1e-10\n",
      "invalid literal for int() with base 10: 'e'\n",
      "Problem with number: <Nanosains didefinisikan sebagai studi tentang fenomena dan manipulasi bahan pada skala molekuler dan makromolekulaer , sifatnya berbeda secara signifikan dari bahan yang berada di skala yang lebih besar . Nanosains adalah bidang interdisipliner studi yang menggabungkan fisika , kimia dan biokimia , bahan dan bidang teknik listrik yang luas . Berkaitan dengan sifat atom dan molekul terdiri atas banyak atom dibawah kisaran yang luar biasa kondisi dan aplikasi geometris . Nanosains tidak terlepas dari teknologi nano atau Nanoteknologi , material berskala nano material yang berukuran submikrometer ( sepuluh − enam meter ) atau nanometer ( sepuluh − sembilan meter ) , ukuran satu nanometer adalah satu per satu miliar meter ( 0,0000000001 m ) artinya 50.000 kali lebih kecil dari ukuran rambut manusia>: 1e-10\n",
      ">>> Nanosains didefinisikan sebagai studi tentang fenomena dan manipulasi bahan pada skala molekuler dan makromolekulaer , sifatnya berbeda secara signifikan dari bahan yang berada di skala yang lebih besar . Nanosains adalah bidang interdisipliner studi yang menggabungkan fisika , kimia dan biokimia , bahan dan bidang teknik listrik yang luas . Berkaitan dengan sifat atom dan molekul terdiri atas banyak atom dibawah kisaran yang luar biasa kondisi dan aplikasi geometris . Nanosains tidak terlepas dari teknologi nano atau Nanoteknologi , material berskala nano material yang berukuran submikrometer ( sepuluh − enam meter ) atau nanometer ( sepuluh − sembilan meter ) , ukuran satu nanometer adalah satu per satu miliar meter ( nol,satu m ) artinya lima puluh ribu kali lebih kecil dari ukuran rambut manusia\n"
     ]
    },
    {
     "name": "stderr",
     "output_type": "stream",
     "text": [
      "Map (num_proc=32):  96%|█████████▌| 9641889/10059935 [24:19<01:41, 4101.02 examples/s]"
     ]
    },
    {
     "name": "stdout",
     "output_type": "stream",
     "text": [
      "invalid literal for int() with base 10: 'e'\n",
      "Problem with number: <Pada tembakau , kadar nikotin dapat mencapai nol koma enam sampai tiga % dari berat kering tembakau . Nikotin juga terkandung di dalam berbagai tumbuhan yang sering dikonsumsi sebagai makanan , seperti terung , kentang , dan tomat , walaupun dalam kadar di bawah dua ratus nanogram per gram berat kering ( kurang dari 0,00002 % ) . Nikotin dapat meningkatkan kemampuan tanaman untuk melawan serangan serangga dan binatang herbivora lainnya , sehingga pada masa lalu sering digunakan sebagai insektisida .>: 2e-05\n",
      ">>> Pada tembakau , kadar nikotin dapat mencapai nol koma enam sampai tiga % dari berat kering tembakau . Nikotin juga terkandung di dalam berbagai tumbuhan yang sering dikonsumsi sebagai makanan , seperti terung , kentang , dan tomat , walaupun dalam kadar di bawah dua ratus nanogram per gram berat kering ( kurang dari nol,dua % ) . Nikotin dapat meningkatkan kemampuan tanaman untuk melawan serangan serangga dan binatang herbivora lainnya , sehingga pada masa lalu sering digunakan sebagai insektisida .\n"
     ]
    },
    {
     "name": "stderr",
     "output_type": "stream",
     "text": [
      "Map (num_proc=32):  98%|█████████▊| 9889308/10059935 [26:05<01:37, 1757.89 examples/s]"
     ]
    },
    {
     "name": "stdout",
     "output_type": "stream",
     "text": [
      "invalid literal for int() with base 10: 'e'\n",
      "Problem with number: <Mikrometer atau micrometre ( ejaan internasional seperti yang digunakan oleh Biro Internasional untuk Ukuran dan Timbangan ; simbol SI : μm ) atau micrometer ( Ejaan Amerika ) adalah satuan turunan SI untuk panjang , yang sama dengan satu × sepuluh − enam meter ( Awalan SI \" mikro \" = sepuluh − enam ); yaitu , sepersejuta meter ( atau seperseribu milimeter , nol koma nol nol satu megameter , atau sekitar 0,000039 inci ) .>: 3.9e-05\n",
      ">>> Mikrometer atau micrometre ( ejaan internasional seperti yang digunakan oleh Biro Internasional untuk Ukuran dan Timbangan ; simbol SI : μm ) atau micrometer ( Ejaan Amerika ) adalah satuan turunan SI untuk panjang , yang sama dengan satu × sepuluh − enam meter ( Awalan SI \" mikro \" = sepuluh − enam ); yaitu , sepersejuta meter ( atau seperseribu milimeter , nol koma nol nol satu megameter , atau sekitar nol,tiga puluh sembilan inci ) .\n"
     ]
    },
    {
     "name": "stderr",
     "output_type": "stream",
     "text": [
      "Map (num_proc=32): 100%|██████████| 10059935/10059935 [29:25<00:00, 5696.66 examples/s]\n"
     ]
    }
   ],
   "source": [
    "import os\n",
    "\n",
    "encoded_dataset = dataset.map(lambda example: phonemize(example[\"text\"]), num_proc=os.cpu_count())"
   ]
  },
  {
   "cell_type": "code",
   "execution_count": 16,
   "metadata": {},
   "outputs": [
    {
     "name": "stderr",
     "output_type": "stream",
     "text": [
      "Filter (num_proc=32): 100%|██████████| 10059935/10059935 [01:18<00:00, 128297.17 examples/s]\n"
     ]
    }
   ],
   "source": [
    "encoded_dataset = encoded_dataset.filter(lambda example: len(example[\"input_ids\"]) > 0 and len(example[\"phonemes\"]) > 0, num_proc=os.cpu_count())"
   ]
  },
  {
   "cell_type": "code",
   "execution_count": 17,
   "metadata": {},
   "outputs": [
    {
     "data": {
      "text/plain": [
       "Dataset({\n",
       "    features: ['id', 'url', 'title', 'text', 'input_ids', 'phonemes'],\n",
       "    num_rows: 9839572\n",
       "})"
      ]
     },
     "execution_count": 17,
     "metadata": {},
     "output_type": "execute_result"
    }
   ],
   "source": [
    "encoded_dataset"
   ]
  },
  {
   "cell_type": "code",
   "execution_count": 18,
   "metadata": {},
   "outputs": [
    {
     "name": "stderr",
     "output_type": "stream",
     "text": [
      "Creating parquet from Arrow format: 100%|██████████| 579/579 [00:20<00:00, 28.59ba/s]\n",
      "/usr/local/lib/python3.10/dist-packages/huggingface_hub/lfs.py:316: UserWarning: hf_transfer is enabled but does not support uploading from bytes or BinaryIO, falling back to regular upload\n",
      "  warnings.warn(\n",
      "100%|██████████| 1/1 [00:05<00:00,  5.81s/it]\n",
      "Creating parquet from Arrow format: 100%|██████████| 579/579 [00:19<00:00, 30.01ba/s]\n",
      "100%|██████████| 1/1 [00:03<00:00,  3.54s/it]\n",
      "Creating parquet from Arrow format: 100%|██████████| 579/579 [00:20<00:00, 28.78ba/s]\n",
      "100%|██████████| 1/1 [00:03<00:00,  3.07s/it]\n",
      "Creating parquet from Arrow format: 100%|██████████| 579/579 [00:19<00:00, 30.40ba/s]\n",
      "100%|██████████| 1/1 [00:02<00:00,  2.67s/it]\n",
      "Creating parquet from Arrow format: 100%|██████████| 579/579 [00:19<00:00, 29.96ba/s]\n",
      "100%|██████████| 1/1 [00:02<00:00,  2.48s/it]\n",
      "Creating parquet from Arrow format: 100%|██████████| 579/579 [00:19<00:00, 30.03ba/s]\n",
      "100%|██████████| 1/1 [00:02<00:00,  2.35s/it]\n",
      "Creating parquet from Arrow format: 100%|██████████| 579/579 [00:19<00:00, 29.77ba/s]\n",
      "100%|██████████| 1/1 [00:02<00:00,  2.67s/it]\n",
      "Creating parquet from Arrow format: 100%|██████████| 579/579 [00:19<00:00, 30.14ba/s]\n",
      "100%|██████████| 1/1 [00:01<00:00,  1.85s/it]\n",
      "Creating parquet from Arrow format: 100%|██████████| 579/579 [00:19<00:00, 30.43ba/s]\n",
      "100%|██████████| 1/1 [00:01<00:00,  1.52s/it]\n",
      "Creating parquet from Arrow format: 100%|██████████| 579/579 [00:19<00:00, 30.31ba/s]\n",
      "100%|██████████| 1/1 [00:04<00:00,  4.03s/it]\n",
      "Creating parquet from Arrow format: 100%|██████████| 579/579 [00:20<00:00, 28.28ba/s]\n",
      "100%|██████████| 1/1 [00:03<00:00,  3.52s/it]\n",
      "Creating parquet from Arrow format: 100%|██████████| 579/579 [00:19<00:00, 29.76ba/s]\n",
      "100%|██████████| 1/1 [00:03<00:00,  3.62s/it]\n",
      "Creating parquet from Arrow format: 100%|██████████| 579/579 [00:19<00:00, 29.01ba/s]\n",
      "100%|██████████| 1/1 [00:02<00:00,  2.63s/it]\n",
      "Creating parquet from Arrow format: 100%|██████████| 579/579 [00:19<00:00, 29.09ba/s]\n",
      "100%|██████████| 1/1 [00:02<00:00,  2.45s/it]\n",
      "Creating parquet from Arrow format: 100%|██████████| 579/579 [00:19<00:00, 29.79ba/s]\n",
      "100%|██████████| 1/1 [00:02<00:00,  2.70s/it]\n",
      "Creating parquet from Arrow format: 100%|██████████| 579/579 [00:19<00:00, 29.12ba/s]\n",
      "100%|██████████| 1/1 [00:02<00:00,  2.55s/it]\n",
      "Creating parquet from Arrow format: 100%|██████████| 579/579 [00:20<00:00, 28.14ba/s]\n",
      "100%|██████████| 1/1 [00:03<00:00,  3.27s/it]\n",
      "Uploading the dataset shards: 100%|██████████| 17/17 [06:33<00:00, 23.13s/it]\n",
      "/usr/local/lib/python3.10/dist-packages/huggingface_hub/utils/_deprecation.py:131: FutureWarning: 'list_files_info' (from 'huggingface_hub.hf_api') is deprecated and will be removed from version '0.23'. Use `list_repo_tree` and `get_paths_info` instead.\n",
      "  warnings.warn(warning_message, FutureWarning)\n"
     ]
    }
   ],
   "source": [
    "encoded_dataset.push_to_hub(\"bookbot/wikipedia_id_phonemized\", private=True)"
   ]
  },
  {
   "cell_type": "code",
   "execution_count": 31,
   "metadata": {},
   "outputs": [],
   "source": [
    "import yaml\n",
    "\n",
    "config_path = \"Configs/config.yml\"\n",
    "config = yaml.safe_load(open(config_path))"
   ]
  },
  {
   "cell_type": "code",
   "execution_count": 41,
   "metadata": {},
   "outputs": [],
   "source": [
    "from dataloader import build_dataloader\n",
    "\n",
    "train_loader = build_dataloader(encoded_dataset, batch_size=32, num_workers=0, dataset_config=config['dataset_params'], validation=True)"
   ]
  },
  {
   "cell_type": "code",
   "execution_count": 42,
   "metadata": {},
   "outputs": [],
   "source": [
    "words, labels, phonemes, input_lengths, masked_indices = next(iter(train_loader))"
   ]
  },
  {
   "cell_type": "code",
   "execution_count": 43,
   "metadata": {},
   "outputs": [
    {
     "data": {
      "text/plain": [
       "tensor([[ 4986,  4986,  4986,  ...,  4404,  4404,  4404],\n",
       "        [  344,   344,   344,  ...,     3,  2563,  2563],\n",
       "        [    3, 30468,     3,  ...,  8343,  8343,  8343],\n",
       "        ...,\n",
       "        [ 1539,  1539,  1539,  ...,     0,     0,     0],\n",
       "        [ 8218,  8218,  8218,  ...,     0,     0,     0],\n",
       "        [ 8599,  8599,  8599,  ...,     0,     0,     0]])"
      ]
     },
     "execution_count": 43,
     "metadata": {},
     "output_type": "execute_result"
    }
   ],
   "source": [
    "words"
   ]
  },
  {
   "cell_type": "code",
   "execution_count": 44,
   "metadata": {},
   "outputs": [
    {
     "data": {
      "text/plain": [
       "tensor([[25, 22, 32,  ..., 26, 12, 16],\n",
       "        [15,  8, 34,  ...,  7,  8, 21],\n",
       "        [ 7,  3,  7,  ...,  9, 33, 24],\n",
       "        ...,\n",
       "        [13, 27, 32,  ...,  0,  0,  0],\n",
       "        [ 9,  8, 25,  ...,  0,  0,  0],\n",
       "        [ 8, 19, 27,  ...,  0,  0,  0]])"
      ]
     },
     "execution_count": 44,
     "metadata": {},
     "output_type": "execute_result"
    }
   ],
   "source": [
    "labels"
   ]
  },
  {
   "cell_type": "code",
   "execution_count": 45,
   "metadata": {},
   "outputs": [
    {
     "data": {
      "text/plain": [
       "tensor([[25, 22, 32,  ...,  0,  0,  0],\n",
       "        [15,  8, 34,  ...,  7,  8, 21],\n",
       "        [ 7,  3,  7,  ...,  9, 33, 24],\n",
       "        ...,\n",
       "        [13, 27, 32,  ...,  0,  0,  0],\n",
       "        [ 9,  8, 25,  ...,  0,  0,  0],\n",
       "        [ 8, 19, 27,  ...,  0,  0,  0]])"
      ]
     },
     "execution_count": 45,
     "metadata": {},
     "output_type": "execute_result"
    }
   ],
   "source": [
    "phonemes"
   ]
  },
  {
   "cell_type": "code",
   "execution_count": null,
   "metadata": {},
   "outputs": [],
   "source": []
  }
 ],
 "metadata": {
  "kernelspec": {
   "display_name": "Python 3",
   "language": "python",
   "name": "python3"
  },
  "language_info": {
   "codemirror_mode": {
    "name": "ipython",
    "version": 3
   },
   "file_extension": ".py",
   "mimetype": "text/x-python",
   "name": "python",
   "nbconvert_exporter": "python",
   "pygments_lexer": "ipython3",
   "version": "3.8.19"
  }
 },
 "nbformat": 4,
 "nbformat_minor": 2
}
